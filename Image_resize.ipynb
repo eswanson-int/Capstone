{
 "cells": [
  {
   "cell_type": "code",
   "execution_count": 1,
   "id": "2fb360ef",
   "metadata": {},
   "outputs": [],
   "source": [
    "import pandas as pd\n",
    "import matplotlib.image as img\n",
    "import matplotlib.pyplot as plt\n",
    "import numpy as np\n",
    "\n",
    "import cv2\n",
    "import os\n"
   ]
  },
  {
   "cell_type": "code",
   "execution_count": null,
   "id": "d5e73444",
   "metadata": {},
   "outputs": [],
   "source": []
  },
  {
   "cell_type": "code",
   "execution_count": 3,
   "id": "2f0ba0fe",
   "metadata": {},
   "outputs": [
    {
     "name": "stdout",
     "output_type": "stream",
     "text": [
      "Original Dimensions :  (48, 48)\n"
     ]
    }
   ],
   "source": [
    "img = cv2.imread('../data-capstone/fer2013_2/train/angry/Training_3908.jpg', cv2.IMREAD_UNCHANGED)\n",
    " \n",
    "print('Original Dimensions : ',img.shape)"
   ]
  },
  {
   "cell_type": "code",
   "execution_count": 4,
   "id": "a3b42173",
   "metadata": {},
   "outputs": [],
   "source": [
    "folders = ['angry', 'disgust', 'fear', 'happy', 'neutral', 'sad', 'surprise']"
   ]
  },
  {
   "cell_type": "code",
   "execution_count": 5,
   "id": "516338e2",
   "metadata": {},
   "outputs": [],
   "source": [
    "#For training set\n",
    "def resize(folder_n):\n",
    "    path = f'../data-capstone/fer2013_2/train/{folder_n}'\n",
    "  \n",
    "    folder = os.listdir(path)\n",
    "    for item in folder:\n",
    "    #if os.path.isfile(path+item):\n",
    "        img = cv2.imread(f'../data-capstone/fer2013_2/train/{folder_n}/{item}', cv2.IMREAD_UNCHANGED)\n",
    "        width = 150\n",
    "        height = 150\n",
    "        dim = (width, height)\n",
    "\n",
    "      # resize image\n",
    "        resized = cv2.resize(img, dim, interpolation = cv2.INTER_AREA)\n",
    " \n",
    "        cv2.imwrite(f'../data-capstone/fer2013_150x150/train/{folder_n}/{item}',resized) "
   ]
  },
  {
   "cell_type": "code",
   "execution_count": 7,
   "id": "7029280a",
   "metadata": {},
   "outputs": [],
   "source": [
    "\n",
    "for fold in folders:\n",
    "    resize(fold)"
   ]
  },
  {
   "cell_type": "code",
   "execution_count": 15,
   "id": "38a2e8ca",
   "metadata": {},
   "outputs": [],
   "source": [
    "#For test folder\n",
    "def resize_test(folder_n):\n",
    "    path = f'../data-capstone/fer2013_2/test/{folder_n}'\n",
    "    folder = os.listdir(path)\n",
    "    for item in folder:\n",
    "        img = cv2.imread(f'../data-capstone/fer2013_2/test/{folder_n}/{item}', cv2.IMREAD_UNCHANGED)\n",
    "        width = 150\n",
    "        height = 150\n",
    "        dim = (width, height)\n",
    "\n",
    "      # resize image\n",
    "        resized = cv2.resize(img, dim, interpolation = cv2.INTER_AREA)\n",
    " \n",
    "        cv2.imwrite(f'../data-capstone/fer2013_150x150/test/{folder_n}/{item}',resized) "
   ]
  },
  {
   "cell_type": "code",
   "execution_count": 16,
   "id": "7296525e",
   "metadata": {},
   "outputs": [],
   "source": [
    "for fold in folders:\n",
    "    resize_test(fold)"
   ]
  },
  {
   "cell_type": "code",
   "execution_count": 21,
   "id": "5473435d",
   "metadata": {},
   "outputs": [],
   "source": [
    "def test_size(folder_n):\n",
    "    path = f'../data-capstone/fer2013_150x150/train/{folder_n}'\n",
    "    folder = os.listdir(path)\n",
    "    for item in folder:\n",
    "        img = cv2.imread(f'../data-capstone/fer2013_150x150/train/{folder_n}/{item}', cv2.IMREAD_UNCHANGED)\n",
    "        if img.shape != (150, 150):\n",
    "            print(item)"
   ]
  },
  {
   "cell_type": "code",
   "execution_count": 22,
   "id": "13a4d5ee",
   "metadata": {},
   "outputs": [],
   "source": [
    "for fold in folders:\n",
    "    test_size(fold)"
   ]
  },
  {
   "cell_type": "code",
   "execution_count": null,
   "id": "f62a593b",
   "metadata": {},
   "outputs": [],
   "source": [
    "img = cv2.imread('../data-capstone/fer2013_150x150/train/angry/Training_10118481.jpg', cv2.IMREAD_UNCHANGED)\n",
    " \n",
    "print('Original Dimensions : ',img.shape)"
   ]
  }
 ],
 "metadata": {
  "kernelspec": {
   "display_name": "Python 3",
   "language": "python",
   "name": "python3"
  },
  "language_info": {
   "codemirror_mode": {
    "name": "ipython",
    "version": 3
   },
   "file_extension": ".py",
   "mimetype": "text/x-python",
   "name": "python",
   "nbconvert_exporter": "python",
   "pygments_lexer": "ipython3",
   "version": "3.8.11"
  }
 },
 "nbformat": 4,
 "nbformat_minor": 5
}
