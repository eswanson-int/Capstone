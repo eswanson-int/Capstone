{
 "cells": [
  {
   "cell_type": "code",
   "execution_count": 1,
   "id": "25698b85",
   "metadata": {},
   "outputs": [],
   "source": [
    "import pandas as pd\n",
    "import matplotlib.image as img\n",
    "import matplotlib.pyplot as plt\n",
    "import numpy as np\n",
    "\n",
    "from tensorflow.keras.datasets import fashion_mnist\n",
    "from tensorflow.keras.models import Sequential\n",
    "from tensorflow.keras.layers import Dense, Dropout, Flatten, Conv2D, MaxPooling2D\n",
    "from tensorflow.math import confusion_matrix\n",
    "from tensorflow.keras import utils\n",
    "from tensorflow.keras.optimizers import SGD \n",
    "\n",
    "import tensorflow as tf\n",
    "tf.random.set_seed(42)\n",
    "\n",
    "#from keras.utils import to_categorical\n",
    "#from sklearn.model_selection import train_test_split"
   ]
  },
  {
   "cell_type": "code",
   "execution_count": 2,
   "id": "e773c3a5",
   "metadata": {},
   "outputs": [],
   "source": [
    "df = pd.read_csv('../data-capstone/fer2013/fer2013.csv')"
   ]
  },
  {
   "cell_type": "code",
   "execution_count": 3,
   "id": "d0fd1d89",
   "metadata": {
    "scrolled": true
   },
   "outputs": [
    {
     "data": {
      "text/html": [
       "<div>\n",
       "<style scoped>\n",
       "    .dataframe tbody tr th:only-of-type {\n",
       "        vertical-align: middle;\n",
       "    }\n",
       "\n",
       "    .dataframe tbody tr th {\n",
       "        vertical-align: top;\n",
       "    }\n",
       "\n",
       "    .dataframe thead th {\n",
       "        text-align: right;\n",
       "    }\n",
       "</style>\n",
       "<table border=\"1\" class=\"dataframe\">\n",
       "  <thead>\n",
       "    <tr style=\"text-align: right;\">\n",
       "      <th></th>\n",
       "      <th>emotion</th>\n",
       "      <th>pixels</th>\n",
       "      <th>Usage</th>\n",
       "    </tr>\n",
       "  </thead>\n",
       "  <tbody>\n",
       "    <tr>\n",
       "      <th>0</th>\n",
       "      <td>0</td>\n",
       "      <td>70 80 82 72 58 58 60 63 54 58 60 48 89 115 121...</td>\n",
       "      <td>Training</td>\n",
       "    </tr>\n",
       "    <tr>\n",
       "      <th>1</th>\n",
       "      <td>0</td>\n",
       "      <td>151 150 147 155 148 133 111 140 170 174 182 15...</td>\n",
       "      <td>Training</td>\n",
       "    </tr>\n",
       "    <tr>\n",
       "      <th>2</th>\n",
       "      <td>2</td>\n",
       "      <td>231 212 156 164 174 138 161 173 182 200 106 38...</td>\n",
       "      <td>Training</td>\n",
       "    </tr>\n",
       "    <tr>\n",
       "      <th>3</th>\n",
       "      <td>4</td>\n",
       "      <td>24 32 36 30 32 23 19 20 30 41 21 22 32 34 21 1...</td>\n",
       "      <td>Training</td>\n",
       "    </tr>\n",
       "    <tr>\n",
       "      <th>4</th>\n",
       "      <td>6</td>\n",
       "      <td>4 0 0 0 0 0 0 0 0 0 0 0 3 15 23 28 48 50 58 84...</td>\n",
       "      <td>Training</td>\n",
       "    </tr>\n",
       "  </tbody>\n",
       "</table>\n",
       "</div>"
      ],
      "text/plain": [
       "   emotion                                             pixels     Usage\n",
       "0        0  70 80 82 72 58 58 60 63 54 58 60 48 89 115 121...  Training\n",
       "1        0  151 150 147 155 148 133 111 140 170 174 182 15...  Training\n",
       "2        2  231 212 156 164 174 138 161 173 182 200 106 38...  Training\n",
       "3        4  24 32 36 30 32 23 19 20 30 41 21 22 32 34 21 1...  Training\n",
       "4        6  4 0 0 0 0 0 0 0 0 0 0 0 3 15 23 28 48 50 58 84...  Training"
      ]
     },
     "execution_count": 3,
     "metadata": {},
     "output_type": "execute_result"
    }
   ],
   "source": [
    "df.head()"
   ]
  },
  {
   "cell_type": "code",
   "execution_count": 4,
   "id": "18f375dd",
   "metadata": {
    "scrolled": true
   },
   "outputs": [
    {
     "data": {
      "text/html": [
       "<div>\n",
       "<style scoped>\n",
       "    .dataframe tbody tr th:only-of-type {\n",
       "        vertical-align: middle;\n",
       "    }\n",
       "\n",
       "    .dataframe tbody tr th {\n",
       "        vertical-align: top;\n",
       "    }\n",
       "\n",
       "    .dataframe thead th {\n",
       "        text-align: right;\n",
       "    }\n",
       "</style>\n",
       "<table border=\"1\" class=\"dataframe\">\n",
       "  <thead>\n",
       "    <tr style=\"text-align: right;\">\n",
       "      <th></th>\n",
       "      <th>emotion</th>\n",
       "      <th>pixels</th>\n",
       "      <th>Usage</th>\n",
       "    </tr>\n",
       "  </thead>\n",
       "  <tbody>\n",
       "    <tr>\n",
       "      <th>35882</th>\n",
       "      <td>6</td>\n",
       "      <td>50 36 17 22 23 29 33 39 34 37 37 37 39 43 48 5...</td>\n",
       "      <td>PrivateTest</td>\n",
       "    </tr>\n",
       "    <tr>\n",
       "      <th>35883</th>\n",
       "      <td>3</td>\n",
       "      <td>178 174 172 173 181 188 191 194 196 199 200 20...</td>\n",
       "      <td>PrivateTest</td>\n",
       "    </tr>\n",
       "    <tr>\n",
       "      <th>35884</th>\n",
       "      <td>0</td>\n",
       "      <td>17 17 16 23 28 22 19 17 25 26 20 24 31 19 27 9...</td>\n",
       "      <td>PrivateTest</td>\n",
       "    </tr>\n",
       "    <tr>\n",
       "      <th>35885</th>\n",
       "      <td>3</td>\n",
       "      <td>30 28 28 29 31 30 42 68 79 81 77 67 67 71 63 6...</td>\n",
       "      <td>PrivateTest</td>\n",
       "    </tr>\n",
       "    <tr>\n",
       "      <th>35886</th>\n",
       "      <td>2</td>\n",
       "      <td>19 13 14 12 13 16 21 33 50 57 71 84 97 108 122...</td>\n",
       "      <td>PrivateTest</td>\n",
       "    </tr>\n",
       "  </tbody>\n",
       "</table>\n",
       "</div>"
      ],
      "text/plain": [
       "       emotion                                             pixels        Usage\n",
       "35882        6  50 36 17 22 23 29 33 39 34 37 37 37 39 43 48 5...  PrivateTest\n",
       "35883        3  178 174 172 173 181 188 191 194 196 199 200 20...  PrivateTest\n",
       "35884        0  17 17 16 23 28 22 19 17 25 26 20 24 31 19 27 9...  PrivateTest\n",
       "35885        3  30 28 28 29 31 30 42 68 79 81 77 67 67 71 63 6...  PrivateTest\n",
       "35886        2  19 13 14 12 13 16 21 33 50 57 71 84 97 108 122...  PrivateTest"
      ]
     },
     "execution_count": 4,
     "metadata": {},
     "output_type": "execute_result"
    }
   ],
   "source": [
    "df.tail()"
   ]
  },
  {
   "cell_type": "code",
   "execution_count": 5,
   "id": "a6627e96",
   "metadata": {},
   "outputs": [
    {
     "data": {
      "text/plain": [
       "(35887, 3)"
      ]
     },
     "execution_count": 5,
     "metadata": {},
     "output_type": "execute_result"
    }
   ],
   "source": [
    "df.shape"
   ]
  },
  {
   "cell_type": "code",
   "execution_count": 6,
   "id": "e36862c4",
   "metadata": {},
   "outputs": [],
   "source": [
    "#0 - 'Angry'1 - 'Disgust'2 - 'Fear' 3 - 'Happy' 4 - 'Sad' 5 - 'Surprise'6 - 'Neutral'\n",
    "emotion = {'angry': 0, 'disgust': 1, 'fear': 2, 'happy': 3, 'sad': 4, 'surprise': 5, 'neutral': 6}"
   ]
  },
  {
   "cell_type": "code",
   "execution_count": 7,
   "id": "9e40ea0f",
   "metadata": {},
   "outputs": [],
   "source": [
    "def image_plot(num):\n",
    "    image1 = np.fromstring(df['pixels'][num], sep= ' ').reshape(48,48)\n",
    "    return plt.imshow(image1, cmap='gray')"
   ]
  },
  {
   "cell_type": "code",
   "execution_count": 8,
   "id": "79c8312c",
   "metadata": {
    "scrolled": true
   },
   "outputs": [
    {
     "data": {
      "text/plain": [
       "<matplotlib.image.AxesImage at 0x24bae4757c0>"
      ]
     },
     "execution_count": 8,
     "metadata": {},
     "output_type": "execute_result"
    },
    {
     "data": {
      "image/png": "[encoded data removed]",
      "text/plain": [
       "<Figure size 432x288 with 1 Axes>"
      ]
     },
     "metadata": {
      "needs_background": "light"
     },
     "output_type": "display_data"
    }
   ],
   "source": [
    "image_plot(5)"
   ]
  },
  {
   "cell_type": "code",
   "execution_count": 9,
   "id": "7cc5be22",
   "metadata": {
    "scrolled": true
   },
   "outputs": [
    {
     "data": {
      "text/plain": [
       "array([[151., 150., 147., ..., 129., 140., 120.],\n",
       "       [151., 149., 149., ..., 122., 141., 137.],\n",
       "       [151., 151., 156., ..., 109., 123., 146.],\n",
       "       ...,\n",
       "       [188., 188., 121., ..., 185., 185., 186.],\n",
       "       [188., 187., 196., ..., 186., 182., 187.],\n",
       "       [186., 184., 185., ..., 193., 183., 184.]])"
      ]
     },
     "execution_count": 9,
     "metadata": {},
     "output_type": "execute_result"
    }
   ],
   "source": [
    "image1"
   ]
  },
  {
   "cell_type": "markdown",
   "id": "181852ef",
   "metadata": {},
   "source": [
    "##  Preprocessing image data"
   ]
  },
  {
   "cell_type": "code",
   "execution_count": 33,
   "id": "c6a903e9",
   "metadata": {},
   "outputs": [
    {
     "data": {
      "text/html": [
       "<div>\n",
       "<style scoped>\n",
       "    .dataframe tbody tr th:only-of-type {\n",
       "        vertical-align: middle;\n",
       "    }\n",
       "\n",
       "    .dataframe tbody tr th {\n",
       "        vertical-align: top;\n",
       "    }\n",
       "\n",
       "    .dataframe thead th {\n",
       "        text-align: right;\n",
       "    }\n",
       "</style>\n",
       "<table border=\"1\" class=\"dataframe\">\n",
       "  <thead>\n",
       "    <tr style=\"text-align: right;\">\n",
       "      <th></th>\n",
       "      <th>emotion</th>\n",
       "      <th>pixels</th>\n",
       "      <th>Usage</th>\n",
       "    </tr>\n",
       "  </thead>\n",
       "  <tbody>\n",
       "    <tr>\n",
       "      <th>0</th>\n",
       "      <td>0</td>\n",
       "      <td>70 80 82 72 58 58 60 63 54 58 60 48 89 115 121...</td>\n",
       "      <td>Training</td>\n",
       "    </tr>\n",
       "    <tr>\n",
       "      <th>1</th>\n",
       "      <td>0</td>\n",
       "      <td>151 150 147 155 148 133 111 140 170 174 182 15...</td>\n",
       "      <td>Training</td>\n",
       "    </tr>\n",
       "    <tr>\n",
       "      <th>2</th>\n",
       "      <td>2</td>\n",
       "      <td>231 212 156 164 174 138 161 173 182 200 106 38...</td>\n",
       "      <td>Training</td>\n",
       "    </tr>\n",
       "    <tr>\n",
       "      <th>3</th>\n",
       "      <td>4</td>\n",
       "      <td>24 32 36 30 32 23 19 20 30 41 21 22 32 34 21 1...</td>\n",
       "      <td>Training</td>\n",
       "    </tr>\n",
       "    <tr>\n",
       "      <th>4</th>\n",
       "      <td>6</td>\n",
       "      <td>4 0 0 0 0 0 0 0 0 0 0 0 3 15 23 28 48 50 58 84...</td>\n",
       "      <td>Training</td>\n",
       "    </tr>\n",
       "  </tbody>\n",
       "</table>\n",
       "</div>"
      ],
      "text/plain": [
       "   emotion                                             pixels     Usage\n",
       "0        0  70 80 82 72 58 58 60 63 54 58 60 48 89 115 121...  Training\n",
       "1        0  151 150 147 155 148 133 111 140 170 174 182 15...  Training\n",
       "2        2  231 212 156 164 174 138 161 173 182 200 106 38...  Training\n",
       "3        4  24 32 36 30 32 23 19 20 30 41 21 22 32 34 21 1...  Training\n",
       "4        6  4 0 0 0 0 0 0 0 0 0 0 0 3 15 23 28 48 50 58 84...  Training"
      ]
     },
     "execution_count": 33,
     "metadata": {},
     "output_type": "execute_result"
    }
   ],
   "source": [
    "df.head()"
   ]
  },
  {
   "cell_type": "code",
   "execution_count": 13,
   "id": "fbb1a35f",
   "metadata": {},
   "outputs": [
    {
     "data": {
      "text/plain": [
       "emotion     int64\n",
       "pixels     object\n",
       "Usage      object\n",
       "dtype: object"
      ]
     },
     "execution_count": 13,
     "metadata": {},
     "output_type": "execute_result"
    }
   ],
   "source": [
    "df.dtypes"
   ]
  },
  {
   "cell_type": "code",
   "execution_count": 14,
   "id": "1306acf5",
   "metadata": {
    "scrolled": true
   },
   "outputs": [
    {
     "data": {
      "text/plain": [
       "emotion    0\n",
       "pixels     0\n",
       "Usage      0\n",
       "dtype: int64"
      ]
     },
     "execution_count": 14,
     "metadata": {},
     "output_type": "execute_result"
    }
   ],
   "source": [
    "df.isnull().sum()"
   ]
  },
  {
   "cell_type": "markdown",
   "id": "1d588a65",
   "metadata": {},
   "source": [
    "## Formating the pixels category"
   ]
  },
  {
   "cell_type": "markdown",
   "id": "8c49b0bd",
   "metadata": {},
   "source": [
    "## split the data into training and testing"
   ]
  },
  {
   "cell_type": "markdown",
   "id": "0a7e262b",
   "metadata": {},
   "source": [
    "#### Note: the original kaggle dataset had two test data sets, one for testing and one for competition submission.  Here I'll use all the test data for testing purposes"
   ]
  },
  {
   "cell_type": "code",
   "execution_count": 3,
   "id": "6a2acdc7",
   "metadata": {},
   "outputs": [
    {
     "data": {
      "text/plain": [
       "(28709, 3)"
      ]
     },
     "execution_count": 3,
     "metadata": {},
     "output_type": "execute_result"
    }
   ],
   "source": [
    "df_train = df.loc[df['Usage']=='Training']\n",
    "df_test = df.loc[df['Usage']!='Training']\n",
    "df_train.shape"
   ]
  },
  {
   "cell_type": "markdown",
   "id": "6101fac4",
   "metadata": {},
   "source": [
    "## iterate through the rows and pull out the strings of numbers for the image"
   ]
  },
  {
   "cell_type": "code",
   "execution_count": 4,
   "id": "447172fb",
   "metadata": {},
   "outputs": [],
   "source": [
    "train_data =[]\n",
    "for i in range(len(df_train)):\n",
    "    image_train = np.fromstring(df_train['pixels'][i], sep= ' ').reshape(48, 48)\n",
    "    image_train = image_train.astype(np.uint8)/255.0\n",
    "    train_data.append(image_train)"
   ]
  },
  {
   "cell_type": "code",
   "execution_count": 11,
   "id": "c1f92971",
   "metadata": {},
   "outputs": [
    {
     "data": {
      "text/plain": [
       "28709"
      ]
     },
     "execution_count": 11,
     "metadata": {},
     "output_type": "execute_result"
    }
   ],
   "source": [
    "len(train_data)"
   ]
  },
  {
   "cell_type": "code",
   "execution_count": 12,
   "id": "5c4dd9c8",
   "metadata": {
    "scrolled": true
   },
   "outputs": [
    {
     "data": {
      "text/html": [
       "<div>\n",
       "<style scoped>\n",
       "    .dataframe tbody tr th:only-of-type {\n",
       "        vertical-align: middle;\n",
       "    }\n",
       "\n",
       "    .dataframe tbody tr th {\n",
       "        vertical-align: top;\n",
       "    }\n",
       "\n",
       "    .dataframe thead th {\n",
       "        text-align: right;\n",
       "    }\n",
       "</style>\n",
       "<table border=\"1\" class=\"dataframe\">\n",
       "  <thead>\n",
       "    <tr style=\"text-align: right;\">\n",
       "      <th></th>\n",
       "      <th>emotion</th>\n",
       "      <th>pixels</th>\n",
       "      <th>Usage</th>\n",
       "    </tr>\n",
       "  </thead>\n",
       "  <tbody>\n",
       "    <tr>\n",
       "      <th>28709</th>\n",
       "      <td>0</td>\n",
       "      <td>254 254 254 254 254 249 255 160 2 58 53 70 77 ...</td>\n",
       "      <td>PublicTest</td>\n",
       "    </tr>\n",
       "    <tr>\n",
       "      <th>28710</th>\n",
       "      <td>1</td>\n",
       "      <td>156 184 198 202 204 207 210 212 213 214 215 21...</td>\n",
       "      <td>PublicTest</td>\n",
       "    </tr>\n",
       "    <tr>\n",
       "      <th>28711</th>\n",
       "      <td>4</td>\n",
       "      <td>69 118 61 60 96 121 103 87 103 88 70 90 115 12...</td>\n",
       "      <td>PublicTest</td>\n",
       "    </tr>\n",
       "    <tr>\n",
       "      <th>28712</th>\n",
       "      <td>6</td>\n",
       "      <td>205 203 236 157 83 158 120 116 94 86 155 180 2...</td>\n",
       "      <td>PublicTest</td>\n",
       "    </tr>\n",
       "    <tr>\n",
       "      <th>28713</th>\n",
       "      <td>3</td>\n",
       "      <td>87 79 74 66 74 96 77 80 80 84 83 89 102 91 84 ...</td>\n",
       "      <td>PublicTest</td>\n",
       "    </tr>\n",
       "  </tbody>\n",
       "</table>\n",
       "</div>"
      ],
      "text/plain": [
       "       emotion                                             pixels       Usage\n",
       "28709        0  254 254 254 254 254 249 255 160 2 58 53 70 77 ...  PublicTest\n",
       "28710        1  156 184 198 202 204 207 210 212 213 214 215 21...  PublicTest\n",
       "28711        4  69 118 61 60 96 121 103 87 103 88 70 90 115 12...  PublicTest\n",
       "28712        6  205 203 236 157 83 158 120 116 94 86 155 180 2...  PublicTest\n",
       "28713        3  87 79 74 66 74 96 77 80 80 84 83 89 102 91 84 ...  PublicTest"
      ]
     },
     "execution_count": 12,
     "metadata": {},
     "output_type": "execute_result"
    }
   ],
   "source": [
    "df_test.head()"
   ]
  },
  {
   "cell_type": "markdown",
   "id": "f272e83a",
   "metadata": {},
   "source": [
    "## Repeat the same process for the test data.  I used the above to refrence the index where the test data started in the original dataFrame.  An alternative would have been to re-index the dataframe."
   ]
  },
  {
   "cell_type": "code",
   "execution_count": 5,
   "id": "27a6c2f8",
   "metadata": {},
   "outputs": [],
   "source": [
    "#Needed to adjust the iteration values since the way we split the dataframe into train and test\n",
    "test_data = []\n",
    "for j in range(28709, (28709 + len(df_test))):\n",
    "    image_test = np.fromstring(df_test['pixels'][j], sep= ' ').reshape(48, 48)\n",
    "    image_test = image_test.astype(np.uint8)/255.0\n",
    "    test_data.append(image_test)"
   ]
  },
  {
   "cell_type": "code",
   "execution_count": 6,
   "id": "3645ffd1",
   "metadata": {},
   "outputs": [
    {
     "data": {
      "text/plain": [
       "48"
      ]
     },
     "execution_count": 6,
     "metadata": {},
     "output_type": "execute_result"
    }
   ],
   "source": [
    "len(image_test)"
   ]
  },
  {
   "cell_type": "markdown",
   "id": "13acd157",
   "metadata": {},
   "source": [
    "### The final touches on the X features data.  The input for the tensor model later needs to be (###, 48, 48, 1).  The ### is the number of images or rows."
   ]
  },
  {
   "cell_type": "code",
   "execution_count": 7,
   "id": "480d8e1c",
   "metadata": {},
   "outputs": [],
   "source": [
    "X_train = np.array(train_data)\n",
    "X_train = np.expand_dims(X_train, -1) \n",
    "X_test = np.array(test_data)\n",
    "X_test = np.expand_dims(X_test, -1) "
   ]
  },
  {
   "cell_type": "code",
   "execution_count": 8,
   "id": "be129189",
   "metadata": {},
   "outputs": [
    {
     "data": {
      "text/plain": [
       "(28709, 48, 48, 1)"
      ]
     },
     "execution_count": 8,
     "metadata": {},
     "output_type": "execute_result"
    }
   ],
   "source": [
    "X_train.shape"
   ]
  },
  {
   "cell_type": "code",
   "execution_count": 9,
   "id": "1633fd57",
   "metadata": {},
   "outputs": [
    {
     "data": {
      "text/plain": [
       "(7178, 48, 48, 1)"
      ]
     },
     "execution_count": 9,
     "metadata": {},
     "output_type": "execute_result"
    }
   ],
   "source": [
    "X_test.shape"
   ]
  },
  {
   "cell_type": "markdown",
   "id": "723bf7a6",
   "metadata": {},
   "source": [
    "### Reformat the y part of the data"
   ]
  },
  {
   "cell_type": "markdown",
   "id": "9577519d",
   "metadata": {},
   "source": [
    "pull out the column and convert it to categories."
   ]
  },
  {
   "cell_type": "code",
   "execution_count": 10,
   "id": "9f3051bd",
   "metadata": {},
   "outputs": [],
   "source": [
    "y_train = df_train['emotion']\n",
    "y_test = df_test['emotion']\n",
    "\n",
    "y_train = utils.to_categorical(y_train, 7)\n",
    "y_test = utils.to_categorical(y_test, 7)"
   ]
  },
  {
   "cell_type": "markdown",
   "id": "80211c32",
   "metadata": {},
   "source": [
    "### verify the shapes"
   ]
  },
  {
   "cell_type": "code",
   "execution_count": 11,
   "id": "ccb4d918",
   "metadata": {},
   "outputs": [
    {
     "data": {
      "text/plain": [
       "(7178, 7)"
      ]
     },
     "execution_count": 11,
     "metadata": {},
     "output_type": "execute_result"
    }
   ],
   "source": [
    "y_test.shape"
   ]
  },
  {
   "cell_type": "code",
   "execution_count": 12,
   "id": "1d27abcc",
   "metadata": {
    "scrolled": true
   },
   "outputs": [
    {
     "data": {
      "text/plain": [
       "(28709, 7)"
      ]
     },
     "execution_count": 12,
     "metadata": {},
     "output_type": "execute_result"
    }
   ],
   "source": [
    "y_train.shape"
   ]
  },
  {
   "cell_type": "code",
   "execution_count": 13,
   "id": "86aa3cd5",
   "metadata": {},
   "outputs": [
    {
     "data": {
      "text/plain": [
       "array([[1., 0., 0., ..., 0., 0., 0.],\n",
       "       [1., 0., 0., ..., 0., 0., 0.],\n",
       "       [0., 0., 1., ..., 0., 0., 0.],\n",
       "       ...,\n",
       "       [0., 0., 0., ..., 1., 0., 0.],\n",
       "       [1., 0., 0., ..., 0., 0., 0.],\n",
       "       [0., 0., 0., ..., 1., 0., 0.]], dtype=float32)"
      ]
     },
     "execution_count": 13,
     "metadata": {},
     "output_type": "execute_result"
    }
   ],
   "source": [
    "y_train"
   ]
  },
  {
   "cell_type": "code",
   "execution_count": 14,
   "id": "af765a7b",
   "metadata": {},
   "outputs": [
    {
     "data": {
      "text/plain": [
       "array([[[[0.2745098 ],\n",
       "         [0.31372549],\n",
       "         [0.32156863],\n",
       "         ...,\n",
       "         [0.20392157],\n",
       "         [0.16862745],\n",
       "         [0.16078431]],\n",
       "\n",
       "        [[0.25490196],\n",
       "         [0.23921569],\n",
       "         [0.22745098],\n",
       "         ...,\n",
       "         [0.21960784],\n",
       "         [0.20392157],\n",
       "         [0.17254902]],\n",
       "\n",
       "        [[0.19607843],\n",
       "         [0.16862745],\n",
       "         [0.21176471],\n",
       "         ...,\n",
       "         [0.19215686],\n",
       "         [0.21960784],\n",
       "         [0.18431373]],\n",
       "\n",
       "        ...,\n",
       "\n",
       "        [[0.35686275],\n",
       "         [0.25490196],\n",
       "         [0.16470588],\n",
       "         ...,\n",
       "         [0.28235294],\n",
       "         [0.21960784],\n",
       "         [0.16862745]],\n",
       "\n",
       "        [[0.30196078],\n",
       "         [0.32156863],\n",
       "         [0.30980392],\n",
       "         ...,\n",
       "         [0.41176471],\n",
       "         [0.2745098 ],\n",
       "         [0.18039216]],\n",
       "\n",
       "        [[0.30196078],\n",
       "         [0.28235294],\n",
       "         [0.32941176],\n",
       "         ...,\n",
       "         [0.41568627],\n",
       "         [0.42745098],\n",
       "         [0.32156863]]],\n",
       "\n",
       "\n",
       "       [[[0.59215686],\n",
       "         [0.58823529],\n",
       "         [0.57647059],\n",
       "         ...,\n",
       "         [0.50588235],\n",
       "         [0.54901961],\n",
       "         [0.47058824]],\n",
       "\n",
       "        [[0.59215686],\n",
       "         [0.58431373],\n",
       "         [0.58431373],\n",
       "         ...,\n",
       "         [0.47843137],\n",
       "         [0.55294118],\n",
       "         [0.5372549 ]],\n",
       "\n",
       "        [[0.59215686],\n",
       "         [0.59215686],\n",
       "         [0.61176471],\n",
       "         ...,\n",
       "         [0.42745098],\n",
       "         [0.48235294],\n",
       "         [0.57254902]],\n",
       "\n",
       "        ...,\n",
       "\n",
       "        [[0.7372549 ],\n",
       "         [0.7372549 ],\n",
       "         [0.4745098 ],\n",
       "         ...,\n",
       "         [0.7254902 ],\n",
       "         [0.7254902 ],\n",
       "         [0.72941176]],\n",
       "\n",
       "        [[0.7372549 ],\n",
       "         [0.73333333],\n",
       "         [0.76862745],\n",
       "         ...,\n",
       "         [0.72941176],\n",
       "         [0.71372549],\n",
       "         [0.73333333]],\n",
       "\n",
       "        [[0.72941176],\n",
       "         [0.72156863],\n",
       "         [0.7254902 ],\n",
       "         ...,\n",
       "         [0.75686275],\n",
       "         [0.71764706],\n",
       "         [0.72156863]]],\n",
       "\n",
       "\n",
       "       [[[0.90588235],\n",
       "         [0.83137255],\n",
       "         [0.61176471],\n",
       "         ...,\n",
       "         [0.17254902],\n",
       "         [0.10588235],\n",
       "         [0.0627451 ]],\n",
       "\n",
       "        [[0.89803922],\n",
       "         [0.68627451],\n",
       "         [0.58039216],\n",
       "         ...,\n",
       "         [0.10588235],\n",
       "         [0.1372549 ],\n",
       "         [0.10588235]],\n",
       "\n",
       "        [[0.83921569],\n",
       "         [0.61176471],\n",
       "         [0.61568627],\n",
       "         ...,\n",
       "         [0.10980392],\n",
       "         [0.08627451],\n",
       "         [0.10980392]],\n",
       "\n",
       "        ...,\n",
       "\n",
       "        [[0.94509804],\n",
       "         [0.96078431],\n",
       "         [0.98039216],\n",
       "         ...,\n",
       "         [0.22352941],\n",
       "         [0.39607843],\n",
       "         [0.57254902]],\n",
       "\n",
       "        [[0.96470588],\n",
       "         [0.98039216],\n",
       "         [0.98823529],\n",
       "         ...,\n",
       "         [0.30588235],\n",
       "         [0.41176471],\n",
       "         [0.63529412]],\n",
       "\n",
       "        [[0.98039216],\n",
       "         [0.98431373],\n",
       "         [0.98039216],\n",
       "         ...,\n",
       "         [0.34509804],\n",
       "         [0.43137255],\n",
       "         [0.59607843]]],\n",
       "\n",
       "\n",
       "       ...,\n",
       "\n",
       "\n",
       "       [[[0.29019608],\n",
       "         [0.31764706],\n",
       "         [0.34117647],\n",
       "         ...,\n",
       "         [0.74117647],\n",
       "         [0.74901961],\n",
       "         [0.75294118]],\n",
       "\n",
       "        [[0.30588235],\n",
       "         [0.32156863],\n",
       "         [0.34901961],\n",
       "         ...,\n",
       "         [0.7254902 ],\n",
       "         [0.74117647],\n",
       "         [0.75686275]],\n",
       "\n",
       "        [[0.31764706],\n",
       "         [0.3372549 ],\n",
       "         [0.36862745],\n",
       "         ...,\n",
       "         [0.69019608],\n",
       "         [0.7254902 ],\n",
       "         [0.75686275]],\n",
       "\n",
       "        ...,\n",
       "\n",
       "        [[0.35294118],\n",
       "         [0.38823529],\n",
       "         [0.44313725],\n",
       "         ...,\n",
       "         [0.75294118],\n",
       "         [0.76470588],\n",
       "         [0.77254902]],\n",
       "\n",
       "        [[0.34509804],\n",
       "         [0.37647059],\n",
       "         [0.44705882],\n",
       "         ...,\n",
       "         [0.75294118],\n",
       "         [0.76078431],\n",
       "         [0.75294118]],\n",
       "\n",
       "        [[0.34509804],\n",
       "         [0.38039216],\n",
       "         [0.43137255],\n",
       "         ...,\n",
       "         [0.7372549 ],\n",
       "         [0.73333333],\n",
       "         [0.73333333]]],\n",
       "\n",
       "\n",
       "       [[[0.87058824],\n",
       "         [0.89019608],\n",
       "         [0.79607843],\n",
       "         ...,\n",
       "         [0.54117647],\n",
       "         [0.51764706],\n",
       "         [0.47843137]],\n",
       "\n",
       "        [[0.87058824],\n",
       "         [0.88627451],\n",
       "         [0.79607843],\n",
       "         ...,\n",
       "         [0.55686275],\n",
       "         [0.53333333],\n",
       "         [0.49803922]],\n",
       "\n",
       "        [[0.87058824],\n",
       "         [0.88235294],\n",
       "         [0.80784314],\n",
       "         ...,\n",
       "         [0.57647059],\n",
       "         [0.56078431],\n",
       "         [0.50588235]],\n",
       "\n",
       "        ...,\n",
       "\n",
       "        [[0.70196078],\n",
       "         [0.70588235],\n",
       "         [0.69411765],\n",
       "         ...,\n",
       "         [0.55294118],\n",
       "         [0.54509804],\n",
       "         [0.5372549 ]],\n",
       "\n",
       "        [[0.7372549 ],\n",
       "         [0.71372549],\n",
       "         [0.69019608],\n",
       "         ...,\n",
       "         [0.54117647],\n",
       "         [0.53333333],\n",
       "         [0.52941176]],\n",
       "\n",
       "        [[0.70980392],\n",
       "         [0.65882353],\n",
       "         [0.60784314],\n",
       "         ...,\n",
       "         [0.53333333],\n",
       "         [0.53333333],\n",
       "         [0.5254902 ]]],\n",
       "\n",
       "\n",
       "       [[[0.76470588],\n",
       "         [0.78039216],\n",
       "         [0.80392157],\n",
       "         ...,\n",
       "         [0.71372549],\n",
       "         [0.54901961],\n",
       "         [0.30196078]],\n",
       "\n",
       "        [[0.75686275],\n",
       "         [0.76862745],\n",
       "         [0.79215686],\n",
       "         ...,\n",
       "         [0.77254902],\n",
       "         [0.64705882],\n",
       "         [0.41176471]],\n",
       "\n",
       "        [[0.77647059],\n",
       "         [0.78431373],\n",
       "         [0.8       ],\n",
       "         ...,\n",
       "         [0.81568627],\n",
       "         [0.76862745],\n",
       "         [0.61568627]],\n",
       "\n",
       "        ...,\n",
       "\n",
       "        [[0.22352941],\n",
       "         [0.28627451],\n",
       "         [0.32941176],\n",
       "         ...,\n",
       "         [0.01176471],\n",
       "         [0.07843137],\n",
       "         [0.12941176]],\n",
       "\n",
       "        [[0.23921569],\n",
       "         [0.28627451],\n",
       "         [0.37647059],\n",
       "         ...,\n",
       "         [0.02352941],\n",
       "         [0.0745098 ],\n",
       "         [0.16078431]],\n",
       "\n",
       "        [[0.23921569],\n",
       "         [0.30980392],\n",
       "         [0.37254902],\n",
       "         ...,\n",
       "         [0.02352941],\n",
       "         [0.05882353],\n",
       "         [0.14901961]]]])"
      ]
     },
     "execution_count": 14,
     "metadata": {},
     "output_type": "execute_result"
    }
   ],
   "source": [
    "X_train"
   ]
  },
  {
   "cell_type": "markdown",
   "id": "08fc3d66",
   "metadata": {},
   "source": [
    "# keras Image preprocessing"
   ]
  },
  {
   "cell_type": "code",
   "execution_count": 18,
   "id": "47a14a8f",
   "metadata": {},
   "outputs": [],
   "source": [
    "from keras.preprocessing.image import ImageDataGenerator"
   ]
  },
  {
   "cell_type": "code",
   "execution_count": 19,
   "id": "d545ce08",
   "metadata": {},
   "outputs": [],
   "source": [
    "datagen = ImageDataGenerator(rescale=1./255)"
   ]
  },
  {
   "cell_type": "code",
   "execution_count": 20,
   "id": "154a3c3b",
   "metadata": {},
   "outputs": [
    {
     "name": "stdout",
     "output_type": "stream",
     "text": [
      "Found 28709 images belonging to 7 classes.\n"
     ]
    }
   ],
   "source": [
    "train_gen = datagen.flow_from_directory(\n",
    "    '../data-capstone/fer2013_2/train',\n",
    "    target_size=(299,299),\n",
    "    batch_size=32,\n",
    "    class_mode=None,\n",
    "    shuffle=False\n",
    ")"
   ]
  },
  {
   "cell_type": "code",
   "execution_count": 21,
   "id": "4b1338ea",
   "metadata": {},
   "outputs": [
    {
     "name": "stdout",
     "output_type": "stream",
     "text": [
      "Found 7178 images belonging to 7 classes.\n"
     ]
    }
   ],
   "source": [
    "test_gen = datagen.flow_from_directory(\n",
    "    '../data-capstone/fer2013_2/test',\n",
    "    target_size=(299,299),\n",
    "    batch_size=32,\n",
    "    class_mode=None,\n",
    "    shuffle=False\n",
    ")"
   ]
  },
  {
   "cell_type": "code",
   "execution_count": null,
   "id": "462124d9",
   "metadata": {},
   "outputs": [],
   "source": []
  },
  {
   "cell_type": "markdown",
   "id": "5d1507e0",
   "metadata": {},
   "source": [
    "# building the model With transfer learning"
   ]
  },
  {
   "cell_type": "code",
   "execution_count": 22,
   "id": "0f1568d0",
   "metadata": {},
   "outputs": [],
   "source": [
    "from keras.applications.inception_v3 import InceptionV3"
   ]
  },
  {
   "cell_type": "code",
   "execution_count": 26,
   "id": "aff73ff9",
   "metadata": {},
   "outputs": [
    {
     "name": "stdout",
     "output_type": "stream",
     "text": [
      "Downloading data from https://storage.googleapis.com/tensorflow/keras-applications/inception_v3/inception_v3_weights_tf_dim_ordering_tf_kernels_notop.h5\n",
      "87916544/87910968 [==============================] - 2s 0us/step\n",
      "87924736/87910968 [==============================] - 2s 0us/step\n"
     ]
    }
   ],
   "source": [
    "conv_base = InceptionV3(\n",
    "    weights='imagenet',\n",
    "    input_shape=(299, 299, 3),\n",
    "    include_top=False\n",
    ")"
   ]
  },
  {
   "cell_type": "code",
   "execution_count": 28,
   "id": "62e82e71",
   "metadata": {},
   "outputs": [
    {
     "ename": "KeyboardInterrupt",
     "evalue": "",
     "output_type": "error",
     "traceback": [
      "\u001b[1;31m---------------------------------------------------------------------------\u001b[0m",
      "\u001b[1;31mKeyboardInterrupt\u001b[0m                         Traceback (most recent call last)",
      "\u001b[1;32m<ipython-input-28-afd773e0543f>\u001b[0m in \u001b[0;36m<module>\u001b[1;34m\u001b[0m\n\u001b[1;32m----> 1\u001b[1;33m \u001b[0ml_train\u001b[0m \u001b[1;33m=\u001b[0m \u001b[0mconv_base\u001b[0m\u001b[1;33m.\u001b[0m\u001b[0mpredict\u001b[0m\u001b[1;33m(\u001b[0m\u001b[0mtrain_gen\u001b[0m\u001b[1;33m)\u001b[0m\u001b[1;33m\u001b[0m\u001b[1;33m\u001b[0m\u001b[0m\n\u001b[0m",
      "\u001b[1;32m~\\anaconda3\\envs\\capstone\\lib\\site-packages\\keras\\engine\\training.py\u001b[0m in \u001b[0;36mpredict\u001b[1;34m(self, x, batch_size, verbose, steps, callbacks, max_queue_size, workers, use_multiprocessing)\u001b[0m\n\u001b[0;32m   1749\u001b[0m           \u001b[1;32mfor\u001b[0m \u001b[0mstep\u001b[0m \u001b[1;32min\u001b[0m \u001b[0mdata_handler\u001b[0m\u001b[1;33m.\u001b[0m\u001b[0msteps\u001b[0m\u001b[1;33m(\u001b[0m\u001b[1;33m)\u001b[0m\u001b[1;33m:\u001b[0m\u001b[1;33m\u001b[0m\u001b[1;33m\u001b[0m\u001b[0m\n\u001b[0;32m   1750\u001b[0m             \u001b[0mcallbacks\u001b[0m\u001b[1;33m.\u001b[0m\u001b[0mon_predict_batch_begin\u001b[0m\u001b[1;33m(\u001b[0m\u001b[0mstep\u001b[0m\u001b[1;33m)\u001b[0m\u001b[1;33m\u001b[0m\u001b[1;33m\u001b[0m\u001b[0m\n\u001b[1;32m-> 1751\u001b[1;33m             \u001b[0mtmp_batch_outputs\u001b[0m \u001b[1;33m=\u001b[0m \u001b[0mself\u001b[0m\u001b[1;33m.\u001b[0m\u001b[0mpredict_function\u001b[0m\u001b[1;33m(\u001b[0m\u001b[0miterator\u001b[0m\u001b[1;33m)\u001b[0m\u001b[1;33m\u001b[0m\u001b[1;33m\u001b[0m\u001b[0m\n\u001b[0m\u001b[0;32m   1752\u001b[0m             \u001b[1;32mif\u001b[0m \u001b[0mdata_handler\u001b[0m\u001b[1;33m.\u001b[0m\u001b[0mshould_sync\u001b[0m\u001b[1;33m:\u001b[0m\u001b[1;33m\u001b[0m\u001b[1;33m\u001b[0m\u001b[0m\n\u001b[0;32m   1753\u001b[0m               \u001b[0mcontext\u001b[0m\u001b[1;33m.\u001b[0m\u001b[0masync_wait\u001b[0m\u001b[1;33m(\u001b[0m\u001b[1;33m)\u001b[0m\u001b[1;33m\u001b[0m\u001b[1;33m\u001b[0m\u001b[0m\n",
      "\u001b[1;32m~\\anaconda3\\envs\\capstone\\lib\\site-packages\\tensorflow\\python\\eager\\def_function.py\u001b[0m in \u001b[0;36m__call__\u001b[1;34m(self, *args, **kwds)\u001b[0m\n\u001b[0;32m    883\u001b[0m \u001b[1;33m\u001b[0m\u001b[0m\n\u001b[0;32m    884\u001b[0m       \u001b[1;32mwith\u001b[0m \u001b[0mOptionalXlaContext\u001b[0m\u001b[1;33m(\u001b[0m\u001b[0mself\u001b[0m\u001b[1;33m.\u001b[0m\u001b[0m_jit_compile\u001b[0m\u001b[1;33m)\u001b[0m\u001b[1;33m:\u001b[0m\u001b[1;33m\u001b[0m\u001b[1;33m\u001b[0m\u001b[0m\n\u001b[1;32m--> 885\u001b[1;33m         \u001b[0mresult\u001b[0m \u001b[1;33m=\u001b[0m \u001b[0mself\u001b[0m\u001b[1;33m.\u001b[0m\u001b[0m_call\u001b[0m\u001b[1;33m(\u001b[0m\u001b[1;33m*\u001b[0m\u001b[0margs\u001b[0m\u001b[1;33m,\u001b[0m \u001b[1;33m**\u001b[0m\u001b[0mkwds\u001b[0m\u001b[1;33m)\u001b[0m\u001b[1;33m\u001b[0m\u001b[1;33m\u001b[0m\u001b[0m\n\u001b[0m\u001b[0;32m    886\u001b[0m \u001b[1;33m\u001b[0m\u001b[0m\n\u001b[0;32m    887\u001b[0m       \u001b[0mnew_tracing_count\u001b[0m \u001b[1;33m=\u001b[0m \u001b[0mself\u001b[0m\u001b[1;33m.\u001b[0m\u001b[0mexperimental_get_tracing_count\u001b[0m\u001b[1;33m(\u001b[0m\u001b[1;33m)\u001b[0m\u001b[1;33m\u001b[0m\u001b[1;33m\u001b[0m\u001b[0m\n",
      "\u001b[1;32m~\\anaconda3\\envs\\capstone\\lib\\site-packages\\tensorflow\\python\\eager\\def_function.py\u001b[0m in \u001b[0;36m_call\u001b[1;34m(self, *args, **kwds)\u001b[0m\n\u001b[0;32m    922\u001b[0m       \u001b[1;31m# In this case we have not created variables on the first call. So we can\u001b[0m\u001b[1;33m\u001b[0m\u001b[1;33m\u001b[0m\u001b[1;33m\u001b[0m\u001b[0m\n\u001b[0;32m    923\u001b[0m       \u001b[1;31m# run the first trace but we should fail if variables are created.\u001b[0m\u001b[1;33m\u001b[0m\u001b[1;33m\u001b[0m\u001b[1;33m\u001b[0m\u001b[0m\n\u001b[1;32m--> 924\u001b[1;33m       \u001b[0mresults\u001b[0m \u001b[1;33m=\u001b[0m \u001b[0mself\u001b[0m\u001b[1;33m.\u001b[0m\u001b[0m_stateful_fn\u001b[0m\u001b[1;33m(\u001b[0m\u001b[1;33m*\u001b[0m\u001b[0margs\u001b[0m\u001b[1;33m,\u001b[0m \u001b[1;33m**\u001b[0m\u001b[0mkwds\u001b[0m\u001b[1;33m)\u001b[0m\u001b[1;33m\u001b[0m\u001b[1;33m\u001b[0m\u001b[0m\n\u001b[0m\u001b[0;32m    925\u001b[0m       \u001b[1;32mif\u001b[0m \u001b[0mself\u001b[0m\u001b[1;33m.\u001b[0m\u001b[0m_created_variables\u001b[0m \u001b[1;32mand\u001b[0m \u001b[1;32mnot\u001b[0m \u001b[0mALLOW_DYNAMIC_VARIABLE_CREATION\u001b[0m\u001b[1;33m:\u001b[0m\u001b[1;33m\u001b[0m\u001b[1;33m\u001b[0m\u001b[0m\n\u001b[0;32m    926\u001b[0m         raise ValueError(\"Creating variables on a non-first call to a function\"\n",
      "\u001b[1;32m~\\anaconda3\\envs\\capstone\\lib\\site-packages\\tensorflow\\python\\eager\\function.py\u001b[0m in \u001b[0;36m__call__\u001b[1;34m(self, *args, **kwargs)\u001b[0m\n\u001b[0;32m   3037\u001b[0m       (graph_function,\n\u001b[0;32m   3038\u001b[0m        filtered_flat_args) = self._maybe_define_function(args, kwargs)\n\u001b[1;32m-> 3039\u001b[1;33m     return graph_function._call_flat(\n\u001b[0m\u001b[0;32m   3040\u001b[0m         filtered_flat_args, captured_inputs=graph_function.captured_inputs)  # pylint: disable=protected-access\n\u001b[0;32m   3041\u001b[0m \u001b[1;33m\u001b[0m\u001b[0m\n",
      "\u001b[1;32m~\\anaconda3\\envs\\capstone\\lib\\site-packages\\tensorflow\\python\\eager\\function.py\u001b[0m in \u001b[0;36m_call_flat\u001b[1;34m(self, args, captured_inputs, cancellation_manager)\u001b[0m\n\u001b[0;32m   1961\u001b[0m         and executing_eagerly):\n\u001b[0;32m   1962\u001b[0m       \u001b[1;31m# No tape is watching; skip to running the function.\u001b[0m\u001b[1;33m\u001b[0m\u001b[1;33m\u001b[0m\u001b[1;33m\u001b[0m\u001b[0m\n\u001b[1;32m-> 1963\u001b[1;33m       return self._build_call_outputs(self._inference_function.call(\n\u001b[0m\u001b[0;32m   1964\u001b[0m           ctx, args, cancellation_manager=cancellation_manager))\n\u001b[0;32m   1965\u001b[0m     forward_backward = self._select_forward_and_backward_functions(\n",
      "\u001b[1;32m~\\anaconda3\\envs\\capstone\\lib\\site-packages\\tensorflow\\python\\eager\\function.py\u001b[0m in \u001b[0;36mcall\u001b[1;34m(self, ctx, args, cancellation_manager)\u001b[0m\n\u001b[0;32m    589\u001b[0m       \u001b[1;32mwith\u001b[0m \u001b[0m_InterpolateFunctionError\u001b[0m\u001b[1;33m(\u001b[0m\u001b[0mself\u001b[0m\u001b[1;33m)\u001b[0m\u001b[1;33m:\u001b[0m\u001b[1;33m\u001b[0m\u001b[1;33m\u001b[0m\u001b[0m\n\u001b[0;32m    590\u001b[0m         \u001b[1;32mif\u001b[0m \u001b[0mcancellation_manager\u001b[0m \u001b[1;32mis\u001b[0m \u001b[1;32mNone\u001b[0m\u001b[1;33m:\u001b[0m\u001b[1;33m\u001b[0m\u001b[1;33m\u001b[0m\u001b[0m\n\u001b[1;32m--> 591\u001b[1;33m           outputs = execute.execute(\n\u001b[0m\u001b[0;32m    592\u001b[0m               \u001b[0mstr\u001b[0m\u001b[1;33m(\u001b[0m\u001b[0mself\u001b[0m\u001b[1;33m.\u001b[0m\u001b[0msignature\u001b[0m\u001b[1;33m.\u001b[0m\u001b[0mname\u001b[0m\u001b[1;33m)\u001b[0m\u001b[1;33m,\u001b[0m\u001b[1;33m\u001b[0m\u001b[1;33m\u001b[0m\u001b[0m\n\u001b[0;32m    593\u001b[0m               \u001b[0mnum_outputs\u001b[0m\u001b[1;33m=\u001b[0m\u001b[0mself\u001b[0m\u001b[1;33m.\u001b[0m\u001b[0m_num_outputs\u001b[0m\u001b[1;33m,\u001b[0m\u001b[1;33m\u001b[0m\u001b[1;33m\u001b[0m\u001b[0m\n",
      "\u001b[1;32m~\\anaconda3\\envs\\capstone\\lib\\site-packages\\tensorflow\\python\\eager\\execute.py\u001b[0m in \u001b[0;36mquick_execute\u001b[1;34m(op_name, num_outputs, inputs, attrs, ctx, name)\u001b[0m\n\u001b[0;32m     57\u001b[0m   \u001b[1;32mtry\u001b[0m\u001b[1;33m:\u001b[0m\u001b[1;33m\u001b[0m\u001b[1;33m\u001b[0m\u001b[0m\n\u001b[0;32m     58\u001b[0m     \u001b[0mctx\u001b[0m\u001b[1;33m.\u001b[0m\u001b[0mensure_initialized\u001b[0m\u001b[1;33m(\u001b[0m\u001b[1;33m)\u001b[0m\u001b[1;33m\u001b[0m\u001b[1;33m\u001b[0m\u001b[0m\n\u001b[1;32m---> 59\u001b[1;33m     tensors = pywrap_tfe.TFE_Py_Execute(ctx._handle, device_name, op_name,\n\u001b[0m\u001b[0;32m     60\u001b[0m                                         inputs, attrs, num_outputs)\n\u001b[0;32m     61\u001b[0m   \u001b[1;32mexcept\u001b[0m \u001b[0mcore\u001b[0m\u001b[1;33m.\u001b[0m\u001b[0m_NotOkStatusException\u001b[0m \u001b[1;32mas\u001b[0m \u001b[0me\u001b[0m\u001b[1;33m:\u001b[0m\u001b[1;33m\u001b[0m\u001b[1;33m\u001b[0m\u001b[0m\n",
      "\u001b[1;31mKeyboardInterrupt\u001b[0m: "
     ]
    }
   ],
   "source": [
    "l_train = conv_base.predict(train_gen)"
   ]
  },
  {
   "cell_type": "code",
   "execution_count": null,
   "id": "79481766",
   "metadata": {},
   "outputs": [],
   "source": [
    "l_test = conv_base.predict(test_gen)"
   ]
  },
  {
   "cell_type": "code",
   "execution_count": null,
   "id": "9a12b124",
   "metadata": {},
   "outputs": [],
   "source": [
    "model = Sequential()\n",
    "model.add(MaxPooling2D(pool_size=(2, 2)))\n",
    "model.add(Dense(7, activation='softmax'))\n",
    "\n",
    "model.compile(loss='categorical_crossentropy', \n",
    "              optimizer='adam', \n",
    "              metrics=['accuracy'])"
   ]
  },
  {
   "cell_type": "code",
   "execution_count": null,
   "id": "c9c8cac0",
   "metadata": {},
   "outputs": [],
   "source": [
    "history = model.fit(l_train, train_gen.labels, validation_data=(l_test, test_gen.labels), epochs=20)"
   ]
  },
  {
   "cell_type": "code",
   "execution_count": null,
   "id": "cdeeb125",
   "metadata": {},
   "outputs": [],
   "source": []
  },
  {
   "cell_type": "markdown",
   "id": "9501cf1e",
   "metadata": {},
   "source": [
    "# MODEL"
   ]
  },
  {
   "cell_type": "code",
   "execution_count": 22,
   "id": "a92624d2",
   "metadata": {},
   "outputs": [],
   "source": [
    "\n",
    "model = Sequential()\n",
    "model.add(Conv2D(\n",
    "      filters=64,\n",
    "      kernel_size=(3, 3),\n",
    "      activation='relu',\n",
    "      input_shape=(48, 48, 1)\n",
    "))\n",
    "model.add(MaxPooling2D(pool_size=(2, 2)))\n",
    "#model.add(Conv2D(\n",
    "#      filters=128,\n",
    "#      kernel_size =(3, 3),\n",
    "#      activation ='relu'\n",
    "#))\n",
    "#model.add(Conv2D(\n",
    "#      filters=128,\n",
    "#      kernel_size =(3, 3),\n",
    "#      activation ='relu'\n",
    "#))\n",
    "\n",
    "model.add(Flatten())\n",
    "model.add(Dense(256, activation='relu'))\n",
    "model.add(Dropout(0.5))\n",
    "model.add(Dense(7, activation='softmax'))\n",
    "\n",
    "model.compile(loss='categorical_crossentropy', \n",
    "              optimizer='adam', \n",
    "              metrics=['accuracy'])"
   ]
  },
  {
   "cell_type": "code",
   "execution_count": 23,
   "id": "b6bc0d37",
   "metadata": {
    "scrolled": false
   },
   "outputs": [
    {
     "name": "stdout",
     "output_type": "stream",
     "text": [
      "Model: \"sequential\"\n",
      "_________________________________________________________________\n",
      "Layer (type)                 Output Shape              Param #   \n",
      "=================================================================\n",
      "conv2d (Conv2D)              (None, 46, 46, 64)        640       \n",
      "_________________________________________________________________\n",
      "max_pooling2d (MaxPooling2D) (None, 23, 23, 64)        0         \n",
      "_________________________________________________________________\n",
      "flatten (Flatten)            (None, 33856)             0         \n",
      "_________________________________________________________________\n",
      "dense (Dense)                (None, 256)               8667392   \n",
      "_________________________________________________________________\n",
      "dropout (Dropout)            (None, 256)               0         \n",
      "_________________________________________________________________\n",
      "dense_1 (Dense)              (None, 7)                 1799      \n",
      "=================================================================\n",
      "Total params: 8,669,831\n",
      "Trainable params: 8,669,831\n",
      "Non-trainable params: 0\n",
      "_________________________________________________________________\n"
     ]
    }
   ],
   "source": [
    "model.summary()"
   ]
  },
  {
   "cell_type": "code",
   "execution_count": 24,
   "id": "53f52e59",
   "metadata": {},
   "outputs": [
    {
     "name": "stdout",
     "output_type": "stream",
     "text": [
      "Epoch 1/5\n",
      "898/898 [==============================] - 139s 154ms/step - loss: 1.6562 - accuracy: 0.3491 - val_loss: 1.5141 - val_accuracy: 0.4209\n",
      "Epoch 2/5\n",
      "898/898 [==============================] - 135s 151ms/step - loss: 1.4918 - accuracy: 0.4254 - val_loss: 1.4317 - val_accuracy: 0.4430\n",
      "Epoch 3/5\n",
      "898/898 [==============================] - 128s 142ms/step - loss: 1.4065 - accuracy: 0.4619 - val_loss: 1.4129 - val_accuracy: 0.4525\n",
      "Epoch 4/5\n",
      "898/898 [==============================] - 128s 143ms/step - loss: 1.3279 - accuracy: 0.4914 - val_loss: 1.3759 - val_accuracy: 0.4738\n",
      "Epoch 5/5\n",
      "898/898 [==============================] - 127s 141ms/step - loss: 1.2453 - accuracy: 0.5256 - val_loss: 1.3619 - val_accuracy: 0.4753\n"
     ]
    }
   ],
   "source": [
    "history = model.fit(\n",
    "      X_train,\n",
    "      y_train, \n",
    "      #batch_size=64,\n",
    "      validation_data=(X_test, y_test),\n",
    "      epochs=5,\n",
    "      verbose=1)"
   ]
  },
  {
   "cell_type": "code",
   "execution_count": 25,
   "id": "766fc9a1",
   "metadata": {},
   "outputs": [
    {
     "data": {
      "image/png": "[encoded data removed]",
      "text/plain": [
       "<Figure size 864x576 with 1 Axes>"
      ]
     },
     "metadata": {
      "needs_background": "light"
     },
     "output_type": "display_data"
    }
   ],
   "source": [
    "# Check out our train loss and test loss over epochs.\n",
    "train_loss = history.history['loss']\n",
    "test_loss = history.history['val_loss']\n",
    "epoch_labels = history.epoch\n",
    "\n",
    "# Set figure size.\n",
    "plt.figure(figsize=(12, 8))\n",
    "\n",
    "# Generate line plot of training, testing loss over epochs.\n",
    "plt.plot(train_loss, label='Training Loss', color='#185fad')\n",
    "plt.plot(test_loss, label='Testing Loss', color='orange')\n",
    "\n",
    "# Set title\n",
    "plt.title('Training and Testing Loss by Epoch', fontsize=25)\n",
    "plt.xlabel('Epoch', fontsize=18)\n",
    "plt.ylabel('Categorical Crossentropy', fontsize=18)\n",
    "plt.xticks(epoch_labels, epoch_labels)    # ticks, labels\n",
    "\n",
    "plt.legend(fontsize=18);"
   ]
  },
  {
   "cell_type": "code",
   "execution_count": 26,
   "id": "e0c4bc54",
   "metadata": {},
   "outputs": [
    {
     "data": {
      "image/png": "[encoded data removed]",
      "text/plain": [
       "<Figure size 864x576 with 1 Axes>"
      ]
     },
     "metadata": {
      "needs_background": "light"
     },
     "output_type": "display_data"
    }
   ],
   "source": [
    "# Check out our train loss and test loss over epochs.\n",
    "train_acc = history.history['accuracy']\n",
    "test_acc = history.history['val_accuracy']\n",
    "epoch_labels = history.epoch\n",
    "\n",
    "# Set figure size.\n",
    "plt.figure(figsize=(12, 8))\n",
    "\n",
    "# Generate line plot of training, testing loss over epochs.\n",
    "plt.plot(train_acc, label='Training Accuracy', color='#185fad')\n",
    "plt.plot(test_acc, label='Testing Accuracy', color='orange')\n",
    "\n",
    "# Set title\n",
    "plt.title('Training and Testing Loss by Epoch', fontsize=25)\n",
    "plt.xlabel('Epoch', fontsize=18)\n",
    "plt.ylabel('Categorical Crossentropy', fontsize=18)\n",
    "plt.xticks(epoch_labels, epoch_labels)    # ticks, labels\n",
    "\n",
    "plt.legend(fontsize=18);"
   ]
  }
 ],
 "metadata": {
  "kernelspec": {
   "display_name": "Python 3",
   "language": "python",
   "name": "python3"
  },
  "language_info": {
   "codemirror_mode": {
    "name": "ipython",
    "version": 3
   },
   "file_extension": ".py",
   "mimetype": "text/x-python",
   "name": "python",
   "nbconvert_exporter": "python",
   "pygments_lexer": "ipython3",
   "version": "3.8.11"
  }
 },
 "nbformat": 4,
 "nbformat_minor": 5
}
